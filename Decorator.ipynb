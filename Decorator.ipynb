{
 "cells": [
  {
   "cell_type": "code",
   "execution_count": null,
   "metadata": {},
   "outputs": [],
   "source": [
    "\"\"\"\n",
    "#first line is the start of decorator function passing the function as an argument\n",
    "def say_hi(function):\n",
    "\n",
    "#second line is the wrapper and passing the argument that the main function will be using\n",
    "  def wrapper(name): #called a wrapper because it encapsulates the function this is the beginning of the encapsulation\n",
    "  \n",
    "#third line is what I want to happen before the function(this is a simple version but in theory i could probally manipulate the \n",
    "# original function argument in this case its name so i could do something like name = (\"{}s\").format(name))  \n",
    "      print(\"Hi there!\") #what goes before the function as said earlier i used print but it could just be a change to the argument?\n",
    "      \n",
    "      return function(name) #here would be what happens after the function but i didnt do anything for after but ill add something below\n",
    "  return wrapper #this ends the encapsulation and returns the formula as a new function with the decorator attached\n",
    "\"\"\"\n",
    "\n",
    "#another example but with arguments\n",
    "\"\"\"\n",
    "def say_hi(function):\n",
    "  def wrapper(name): #because the main function being passed in between the wrapper takes an argument I add one here\n",
    "      print(\"Hi there!\")\n",
    "      function(name) #add it again here \n",
    "      print(\"Bye\")\n",
    "  return wrapper\n",
    "\n",
    "@say_hi\n",
    "def get_name(name):\n",
    "  print(\"{}\".format(name))\n",
    "  \n",
    "get_name('Joshua')\n",
    "\"\"\"\n"
   ]
  },
  {
   "cell_type": "code",
   "execution_count": null,
   "metadata": {},
   "outputs": [],
   "source": [
    "def introduction(function):\n",
    "    def wrapper():\n",
    "        name = input(\"Enter your name: \")\n",
    "        print(\"Hi {} welcome to Pace high school\".format(name))\n",
    "        function(name)  \n",
    "        print(\"Good luck, if you need assistance please reach out.\")\n",
    "    return wrapper\n",
    "\n",
    "@introduction\n",
    "def get_grade_and_name(name): \n",
    "    grade = int(input(\"What is your grade: \"))\n",
    "    teachers = {9: \"Ms.Harry\", 10: \"Mr.Sampson\", 11: \"Mr. Barry\", 12: \"Ms.Joy\"}\n",
    "    \n",
    "    if grade in teachers:\n",
    "        teacher = teachers[grade]\n",
    "        print(\"You are in {}'s class this year\".format(teacher))\n",
    "\n",
    "#running the function        \n",
    "get_grade_and_name()\n"
   ]
  },
  {
   "cell_type": "code",
   "execution_count": null,
   "metadata": {},
   "outputs": [],
   "source": [
    "cars = {\n",
    "  \"Toyota\": 1400,\n",
    "  \"Honda\": 1700, \n",
    "  \"Dodge\": 2200\n",
    "}\n",
    "\n",
    "for index, (brand, price) in enumerate(cars.items(), start = 1):\n",
    "  print(\"{}: {}- ${:.2f}\".format(index, brand, price ))\n",
    "  \n",
    "\n",
    "cars = {\n",
    "  \"Toyota\": 1400,\n",
    "  \"Honda\": 1700, \n",
    "  \"Dodge\": 2200\n",
    "}\n",
    "\n",
    "for brand, price in enumerate(cars):\n",
    "  print(\"{}: {}\".format(brand, price))"
   ]
  }
 ],
 "metadata": {
  "kernelspec": {
   "display_name": "Python 3",
   "language": "python",
   "name": "python3"
  },
  "language_info": {
   "codemirror_mode": {
    "name": "ipython",
    "version": 3
   },
   "file_extension": ".py",
   "mimetype": "text/x-python",
   "name": "python",
   "nbconvert_exporter": "python",
   "pygments_lexer": "ipython3",
   "version": "3.11.2"
  }
 },
 "nbformat": 4,
 "nbformat_minor": 2
}
